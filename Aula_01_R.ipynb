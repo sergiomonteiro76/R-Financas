{
  "nbformat": 4,
  "nbformat_minor": 0,
  "metadata": {
    "colab": {
      "provenance": []
    },
    "kernelspec": {
      "name": "ir",
      "display_name": "R"
    },
    "language_info": {
      "name": "R"
    }
  },
  "cells": [
    {
      "cell_type": "markdown",
      "source": [
        "# **Introducao à Linguagem R**\n",
        "\n",
        "**prof: Sergio Assuncao Monteiro, DSc**\n",
        "\n",
        "linkedin: https://www.linkedin.com/in/sergio-assun%C3%A7%C3%A3o-monteiro-b781897b/\n",
        "\n",
        "lattes: http://lattes.cnpq.br/9489191035734025\n"
      ],
      "metadata": {
        "id": "IpEhDrUf7ImO"
      }
    },
    {
      "cell_type": "markdown",
      "source": [
        "# **Entrada de Dados**"
      ],
      "metadata": {
        "id": "4yoxl9rO-YrA"
      }
    },
    {
      "cell_type": "code",
      "execution_count": null,
      "metadata": {
        "colab": {
          "base_uri": "https://localhost:8080/"
        },
        "id": "Pon6E6Li69uk",
        "outputId": "bd721e2a-3229-4d13-ad1e-55a9350800ec"
      },
      "outputs": [
        {
          "name": "stdout",
          "output_type": "stream",
          "text": [
            "Digite um número inteiro: 10\n"
          ]
        }
      ],
      "source": [
        "# Entrada de um número inteiro\n",
        "numero <- as.integer(readline(prompt=\"Digite um número inteiro: \"))"
      ]
    },
    {
      "cell_type": "code",
      "source": [
        "numero<-numero*7"
      ],
      "metadata": {
        "id": "KWwQj2kuKgG6"
      },
      "execution_count": null,
      "outputs": []
    },
    {
      "cell_type": "code",
      "source": [
        "numero"
      ],
      "metadata": {
        "colab": {
          "base_uri": "https://localhost:8080/",
          "height": 34
        },
        "id": "e0QiW19BLxdi",
        "outputId": "e87eec05-6374-4889-980a-833a9d0d8986"
      },
      "execution_count": null,
      "outputs": [
        {
          "output_type": "display_data",
          "data": {
            "text/html": [
              "70"
            ],
            "text/markdown": "70",
            "text/latex": "70",
            "text/plain": [
              "[1] 70"
            ]
          },
          "metadata": {}
        }
      ]
    },
    {
      "cell_type": "code",
      "source": [
        "# prompt: um código em R para calcular a raiz quadrada da variável número\n",
        "\n",
        "raiz_quadrada <- sqrt(numero)\n",
        "raiz_quadrada\n"
      ],
      "metadata": {
        "colab": {
          "base_uri": "https://localhost:8080/",
          "height": 34
        },
        "id": "Fdvn0_5xKqYA",
        "outputId": "a1fda787-3e4a-4f33-f30c-c84386990c63"
      },
      "execution_count": null,
      "outputs": [
        {
          "output_type": "display_data",
          "data": {
            "text/html": [
              "8.36660026534076"
            ],
            "text/markdown": "8.36660026534076",
            "text/latex": "8.36660026534076",
            "text/plain": [
              "[1] 8.3666"
            ]
          },
          "metadata": {}
        }
      ]
    },
    {
      "cell_type": "code",
      "source": [
        "# Entrada de uma string\n",
        "texto <- readline(prompt=\"Digite um texto: \")"
      ],
      "metadata": {
        "colab": {
          "base_uri": "https://localhost:8080/"
        },
        "id": "3513jaMaNQyi",
        "outputId": "40faef60-504b-4615-994f-ae767403cfee"
      },
      "execution_count": null,
      "outputs": [
        {
          "name": "stdout",
          "output_type": "stream",
          "text": [
            "Digite um texto: exemplo de texto\n"
          ]
        }
      ]
    },
    {
      "cell_type": "code",
      "source": [
        "# Entrada de um número decimal\n",
        "decimal <- as.numeric(readline(prompt=\"Digite um número decimal: \"))"
      ],
      "metadata": {
        "colab": {
          "base_uri": "https://localhost:8080/"
        },
        "id": "hqr_Ukm-NSXR",
        "outputId": "0febb045-3b0b-4143-d7b2-499055cde915"
      },
      "execution_count": null,
      "outputs": [
        {
          "name": "stdout",
          "output_type": "stream",
          "text": [
            "Digite um número decimal: 10.7\n"
          ]
        }
      ]
    },
    {
      "cell_type": "markdown",
      "source": [
        "# **Operações com Vetores**"
      ],
      "metadata": {
        "id": "oMiOv0Fw-j-o"
      }
    },
    {
      "cell_type": "code",
      "source": [
        "# Criando vetores\n",
        "vetor1 <- c(19, 2, 3, 4, 5)\n",
        "vetor2 <- c(6, 7, 8, 9, 10)"
      ],
      "metadata": {
        "id": "6i-hBiU6-BWZ"
      },
      "execution_count": null,
      "outputs": []
    },
    {
      "cell_type": "code",
      "source": [
        "# prompt: criar dois vetores numéricos de tamanho 10 com dados entre 5 e 7\n",
        "\n",
        "vetor1 <- sample(5:7, 10, replace = TRUE)\n",
        "vetor2 <- sample(5:7, 10, replace = TRUE)\n"
      ],
      "metadata": {
        "id": "5ewD_CO9MNI5"
      },
      "execution_count": null,
      "outputs": []
    },
    {
      "cell_type": "code",
      "source": [
        "vetor1"
      ],
      "metadata": {
        "colab": {
          "base_uri": "https://localhost:8080/",
          "height": 34
        },
        "id": "HiyTVjlINK_Y",
        "outputId": "696c89d5-b09f-4a97-bf99-8a3e3b13a980"
      },
      "execution_count": null,
      "outputs": [
        {
          "output_type": "display_data",
          "data": {
            "text/html": [
              "<style>\n",
              ".list-inline {list-style: none; margin:0; padding: 0}\n",
              ".list-inline>li {display: inline-block}\n",
              ".list-inline>li:not(:last-child)::after {content: \"\\00b7\"; padding: 0 .5ex}\n",
              "</style>\n",
              "<ol class=list-inline><li>5</li><li>7</li><li>7</li><li>7</li><li>6</li><li>5</li><li>6</li><li>7</li><li>6</li><li>6</li></ol>\n"
            ],
            "text/markdown": "1. 5\n2. 7\n3. 7\n4. 7\n5. 6\n6. 5\n7. 6\n8. 7\n9. 6\n10. 6\n\n\n",
            "text/latex": "\\begin{enumerate*}\n\\item 5\n\\item 7\n\\item 7\n\\item 7\n\\item 6\n\\item 5\n\\item 6\n\\item 7\n\\item 6\n\\item 6\n\\end{enumerate*}\n",
            "text/plain": [
              " [1] 5 7 7 7 6 5 6 7 6 6"
            ]
          },
          "metadata": {}
        }
      ]
    },
    {
      "cell_type": "code",
      "source": [
        "vetor2"
      ],
      "metadata": {
        "colab": {
          "base_uri": "https://localhost:8080/",
          "height": 34
        },
        "id": "Jki9jg2ZNixv",
        "outputId": "baf98d0b-e413-4d8b-ec6a-6bf10e315b13"
      },
      "execution_count": null,
      "outputs": [
        {
          "output_type": "display_data",
          "data": {
            "text/html": [
              "<style>\n",
              ".list-inline {list-style: none; margin:0; padding: 0}\n",
              ".list-inline>li {display: inline-block}\n",
              ".list-inline>li:not(:last-child)::after {content: \"\\00b7\"; padding: 0 .5ex}\n",
              "</style>\n",
              "<ol class=list-inline><li>5</li><li>6</li><li>7</li><li>6</li><li>6</li><li>7</li><li>5</li><li>6</li><li>5</li><li>7</li></ol>\n"
            ],
            "text/markdown": "1. 5\n2. 6\n3. 7\n4. 6\n5. 6\n6. 7\n7. 5\n8. 6\n9. 5\n10. 7\n\n\n",
            "text/latex": "\\begin{enumerate*}\n\\item 5\n\\item 6\n\\item 7\n\\item 6\n\\item 6\n\\item 7\n\\item 5\n\\item 6\n\\item 5\n\\item 7\n\\end{enumerate*}\n",
            "text/plain": [
              " [1] 5 6 7 6 6 7 5 6 5 7"
            ]
          },
          "metadata": {}
        }
      ]
    },
    {
      "cell_type": "code",
      "source": [
        "# Soma de vetores\n",
        "soma <- vetor1 + vetor2\n",
        "soma"
      ],
      "metadata": {
        "colab": {
          "base_uri": "https://localhost:8080/",
          "height": 34
        },
        "id": "uHvnwl0zQ9_l",
        "outputId": "818fee80-8090-4dfd-b821-b06fd13c0d6a"
      },
      "execution_count": null,
      "outputs": [
        {
          "output_type": "display_data",
          "data": {
            "text/html": [
              "<style>\n",
              ".list-inline {list-style: none; margin:0; padding: 0}\n",
              ".list-inline>li {display: inline-block}\n",
              ".list-inline>li:not(:last-child)::after {content: \"\\00b7\"; padding: 0 .5ex}\n",
              "</style>\n",
              "<ol class=list-inline><li>10</li><li>13</li><li>14</li><li>13</li><li>12</li><li>12</li><li>11</li><li>13</li><li>11</li><li>13</li></ol>\n"
            ],
            "text/markdown": "1. 10\n2. 13\n3. 14\n4. 13\n5. 12\n6. 12\n7. 11\n8. 13\n9. 11\n10. 13\n\n\n",
            "text/latex": "\\begin{enumerate*}\n\\item 10\n\\item 13\n\\item 14\n\\item 13\n\\item 12\n\\item 12\n\\item 11\n\\item 13\n\\item 11\n\\item 13\n\\end{enumerate*}\n",
            "text/plain": [
              " [1] 10 13 14 13 12 12 11 13 11 13"
            ]
          },
          "metadata": {}
        }
      ]
    },
    {
      "cell_type": "code",
      "source": [
        "vetor3 <- vetor1 * vetor2\n",
        "vetor3"
      ],
      "metadata": {
        "colab": {
          "base_uri": "https://localhost:8080/",
          "height": 34
        },
        "id": "LRZ2d4AfOiNV",
        "outputId": "3e3b1100-4bea-4062-e2e5-fba0f12448d7"
      },
      "execution_count": null,
      "outputs": [
        {
          "output_type": "display_data",
          "data": {
            "text/html": [
              "<style>\n",
              ".list-inline {list-style: none; margin:0; padding: 0}\n",
              ".list-inline>li {display: inline-block}\n",
              ".list-inline>li:not(:last-child)::after {content: \"\\00b7\"; padding: 0 .5ex}\n",
              "</style>\n",
              "<ol class=list-inline><li>25</li><li>42</li><li>49</li><li>42</li><li>36</li><li>35</li><li>30</li><li>42</li><li>30</li><li>42</li></ol>\n"
            ],
            "text/markdown": "1. 25\n2. 42\n3. 49\n4. 42\n5. 36\n6. 35\n7. 30\n8. 42\n9. 30\n10. 42\n\n\n",
            "text/latex": "\\begin{enumerate*}\n\\item 25\n\\item 42\n\\item 49\n\\item 42\n\\item 36\n\\item 35\n\\item 30\n\\item 42\n\\item 30\n\\item 42\n\\end{enumerate*}\n",
            "text/plain": [
              " [1] 25 42 49 42 36 35 30 42 30 42"
            ]
          },
          "metadata": {}
        }
      ]
    },
    {
      "cell_type": "code",
      "source": [
        "# Produto escalar de vetores\n",
        "produto_escalar <- sum(vetor3)\n",
        "produto_escalar"
      ],
      "metadata": {
        "colab": {
          "base_uri": "https://localhost:8080/",
          "height": 34
        },
        "id": "0Wbk3HH9Q_yt",
        "outputId": "bd261d6a-a2d4-4a2a-8f9c-d894b30b5dfd"
      },
      "execution_count": null,
      "outputs": [
        {
          "output_type": "display_data",
          "data": {
            "text/html": [
              "373"
            ],
            "text/markdown": "373",
            "text/latex": "373",
            "text/plain": [
              "[1] 373"
            ]
          },
          "metadata": {}
        }
      ]
    },
    {
      "cell_type": "code",
      "source": [
        "# Acesso a elementos de um vetor\n",
        "primeiro_elemento <- vetor1[1]\n",
        "primeiro_elemento"
      ],
      "metadata": {
        "colab": {
          "base_uri": "https://localhost:8080/",
          "height": 34
        },
        "id": "vaDaJK1uRBP2",
        "outputId": "4b403c8f-feb3-4b5e-f0b2-4eac48d7d2f5"
      },
      "execution_count": null,
      "outputs": [
        {
          "output_type": "display_data",
          "data": {
            "text/html": [
              "5"
            ],
            "text/markdown": "5",
            "text/latex": "5",
            "text/plain": [
              "[1] 5"
            ]
          },
          "metadata": {}
        }
      ]
    },
    {
      "cell_type": "code",
      "source": [
        "vetor1[10]"
      ],
      "metadata": {
        "colab": {
          "base_uri": "https://localhost:8080/",
          "height": 34
        },
        "id": "36JoWzg9O_o1",
        "outputId": "61545808-525a-44dc-b754-0f28f4a22610"
      },
      "execution_count": null,
      "outputs": [
        {
          "output_type": "display_data",
          "data": {
            "text/html": [
              "6"
            ],
            "text/markdown": "6",
            "text/latex": "6",
            "text/plain": [
              "[1] 6"
            ]
          },
          "metadata": {}
        }
      ]
    },
    {
      "cell_type": "code",
      "source": [
        "# prompt: encontrar o maior elemento do vetor1\n",
        "\n",
        "max(vetor1)\n"
      ],
      "metadata": {
        "colab": {
          "base_uri": "https://localhost:8080/",
          "height": 34
        },
        "id": "giJLnusGPGJV",
        "outputId": "9abaf93f-3186-4a60-d2ca-e2c384321e2e"
      },
      "execution_count": null,
      "outputs": [
        {
          "output_type": "display_data",
          "data": {
            "text/html": [
              "7"
            ],
            "text/markdown": "7",
            "text/latex": "7",
            "text/plain": [
              "[1] 7"
            ]
          },
          "metadata": {}
        }
      ]
    },
    {
      "cell_type": "markdown",
      "source": [
        "# **Gráfico de Linha**"
      ],
      "metadata": {
        "id": "7VVz9XXD-lpI"
      }
    },
    {
      "cell_type": "code",
      "source": [
        "# Criando dados\n",
        "x <- 1:10\n",
        "y <- x^2"
      ],
      "metadata": {
        "id": "EBTQ7JOw-C9p"
      },
      "execution_count": null,
      "outputs": []
    },
    {
      "cell_type": "code",
      "source": [
        "y"
      ],
      "metadata": {
        "colab": {
          "base_uri": "https://localhost:8080/",
          "height": 34
        },
        "id": "IwLIXRzdPp7c",
        "outputId": "4026e97b-d1e6-4b9c-b7ae-0f2e8e54e129"
      },
      "execution_count": null,
      "outputs": [
        {
          "output_type": "display_data",
          "data": {
            "text/html": [
              "<style>\n",
              ".list-inline {list-style: none; margin:0; padding: 0}\n",
              ".list-inline>li {display: inline-block}\n",
              ".list-inline>li:not(:last-child)::after {content: \"\\00b7\"; padding: 0 .5ex}\n",
              "</style>\n",
              "<ol class=list-inline><li>1</li><li>4</li><li>9</li><li>16</li><li>25</li><li>36</li><li>49</li><li>64</li><li>81</li><li>100</li></ol>\n"
            ],
            "text/markdown": "1. 1\n2. 4\n3. 9\n4. 16\n5. 25\n6. 36\n7. 49\n8. 64\n9. 81\n10. 100\n\n\n",
            "text/latex": "\\begin{enumerate*}\n\\item 1\n\\item 4\n\\item 9\n\\item 16\n\\item 25\n\\item 36\n\\item 49\n\\item 64\n\\item 81\n\\item 100\n\\end{enumerate*}\n",
            "text/plain": [
              " [1]   1   4   9  16  25  36  49  64  81 100"
            ]
          },
          "metadata": {}
        }
      ]
    },
    {
      "cell_type": "code",
      "source": [
        "# Plotando gráfico de linha\n",
        "plot(x, y, type=\"l\", col=\"blue\",\n",
        "     xlab=\"data\", ylab=\"preço\",\n",
        "     main=\"Gráfico de Linha de Preços\")"
      ],
      "metadata": {
        "colab": {
          "base_uri": "https://localhost:8080/",
          "height": 437
        },
        "id": "lKfuOLjCTEcL",
        "outputId": "17520c38-63e4-45b9-dd67-a50611af9a18"
      },
      "execution_count": null,
      "outputs": [
        {
          "output_type": "display_data",
          "data": {
            "text/plain": [
              "Plot with title “Gráfico de Linha de Preços”"
            ],
            "image/png": "[encoded data removed]"
          },
          "metadata": {
            "image/png": {
              "width": 420,
              "height": 420
            }
          }
        }
      ]
    },
    {
      "cell_type": "markdown",
      "source": [
        "# **Gráfico de Barras**"
      ],
      "metadata": {
        "id": "Ga8jBDGy-oZo"
      }
    },
    {
      "cell_type": "code",
      "source": [
        "# Criando dados\n",
        "categorias <- c(\"A\", \"B\", \"C\", \"D\")\n",
        "valores <- c(10, 20, 15, 25)"
      ],
      "metadata": {
        "id": "tpylmN29-F7J"
      },
      "execution_count": null,
      "outputs": []
    },
    {
      "cell_type": "code",
      "source": [
        "# Plotando gráfico de barras\n",
        "barplot(valores, names.arg=categorias, col=\"blue\",\n",
        "        xlab=\"Categorias\", ylab=\"Valores\",\n",
        "        main=\"Gráfico de Barras\")\n"
      ],
      "metadata": {
        "colab": {
          "base_uri": "https://localhost:8080/",
          "height": 437
        },
        "id": "oVZel0xQUoF4",
        "outputId": "6c32808d-0821-4993-c80e-8fd3e733daa8"
      },
      "execution_count": null,
      "outputs": [
        {
          "output_type": "display_data",
          "data": {
            "text/plain": [
              "Plot with title “Gráfico de Barras”"
            ],
            "image/png": "[encoded data removed]"
          },
          "metadata": {
            "image/png": {
              "width": 420,
              "height": 420
            }
          }
        }
      ]
    },
    {
      "cell_type": "markdown",
      "source": [
        "# **Gráfico de Dispersão**"
      ],
      "metadata": {
        "id": "E73pAQvA-sm4"
      }
    },
    {
      "cell_type": "code",
      "source": [
        "# Criando dados\n",
        "x <- c(1, 2, 3, 4, 5)\n",
        "y <- c(2, 4, 6, 8, 10)"
      ],
      "metadata": {
        "id": "-jm7FmvX-Jqx"
      },
      "execution_count": null,
      "outputs": []
    },
    {
      "cell_type": "code",
      "source": [
        "# Plotando gráfico de dispersão\n",
        "plot(x, y, col=\"red\",\n",
        "     xlab=\"Eixo X\", ylab=\"Eixo Y\",\n",
        "     main=\"Gráfico de Dispersão\")"
      ],
      "metadata": {
        "colab": {
          "base_uri": "https://localhost:8080/",
          "height": 437
        },
        "id": "lp6jS_k8VCb4",
        "outputId": "004d113f-d29e-4737-e564-20f94c812a4d"
      },
      "execution_count": null,
      "outputs": [
        {
          "output_type": "display_data",
          "data": {
            "text/plain": [
              "Plot with title “Gráfico de Dispersão”"
            ],
            "image/png": "[encoded data removed]"
          },
          "metadata": {
            "image/png": {
              "width": 420,
              "height": 420
            }
          }
        }
      ]
    },
    {
      "cell_type": "markdown",
      "source": [
        "# **Dicionário**"
      ],
      "metadata": {
        "id": "x9exP7gS-ujI"
      }
    },
    {
      "cell_type": "code",
      "source": [
        "# Criando um dicionário\n",
        "dicionario <- list(nome=\"João\", idade=30, cidade=\"São Paulo\")"
      ],
      "metadata": {
        "id": "B6yQ05eS-PKI"
      },
      "execution_count": null,
      "outputs": []
    },
    {
      "cell_type": "code",
      "source": [
        "dicionario"
      ],
      "metadata": {
        "colab": {
          "base_uri": "https://localhost:8080/",
          "height": 149
        },
        "id": "lwORGTLdToyP",
        "outputId": "eddcb961-3eb2-48d6-fcd1-7764e7b972b0"
      },
      "execution_count": null,
      "outputs": [
        {
          "output_type": "display_data",
          "data": {
            "text/html": [
              "<dl>\n",
              "\t<dt>$nome</dt>\n",
              "\t\t<dd>'João'</dd>\n",
              "\t<dt>$idade</dt>\n",
              "\t\t<dd>30</dd>\n",
              "\t<dt>$cidade</dt>\n",
              "\t\t<dd>'São Paulo'</dd>\n",
              "</dl>\n"
            ],
            "text/markdown": "$nome\n:   'João'\n$idade\n:   30\n$cidade\n:   'São Paulo'\n\n\n",
            "text/latex": "\\begin{description}\n\\item[\\$nome] 'João'\n\\item[\\$idade] 30\n\\item[\\$cidade] 'São Paulo'\n\\end{description}\n",
            "text/plain": [
              "$nome\n",
              "[1] \"João\"\n",
              "\n",
              "$idade\n",
              "[1] 30\n",
              "\n",
              "$cidade\n",
              "[1] \"São Paulo\"\n"
            ]
          },
          "metadata": {}
        }
      ]
    },
    {
      "cell_type": "code",
      "source": [
        "# Acessando elementos do dicionário\n",
        "dicionario$nome"
      ],
      "metadata": {
        "colab": {
          "base_uri": "https://localhost:8080/",
          "height": 34
        },
        "id": "UvdfEopcTnSI",
        "outputId": "6248bda6-e990-4da2-d612-0672156debad"
      },
      "execution_count": null,
      "outputs": [
        {
          "output_type": "display_data",
          "data": {
            "text/html": [
              "'João'"
            ],
            "text/markdown": "'João'",
            "text/latex": "'João'",
            "text/plain": [
              "[1] \"João\""
            ]
          },
          "metadata": {}
        }
      ]
    },
    {
      "cell_type": "code",
      "source": [
        "dicionario$idade"
      ],
      "metadata": {
        "colab": {
          "base_uri": "https://localhost:8080/",
          "height": 34
        },
        "id": "ef0LTTKfT5Wn",
        "outputId": "41dee4d5-bce0-4727-fdd7-c8a708ac2747"
      },
      "execution_count": null,
      "outputs": [
        {
          "output_type": "display_data",
          "data": {
            "text/html": [
              "30"
            ],
            "text/markdown": "30",
            "text/latex": "30",
            "text/plain": [
              "[1] 30"
            ]
          },
          "metadata": {}
        }
      ]
    },
    {
      "cell_type": "code",
      "source": [
        "# prompt: gerar um dicionario com 10 individuos\n",
        "\n",
        "dicionario <- list()\n",
        "for (i in 1:10) {\n",
        "  nome <- paste(\"Individuo\", i, sep = \"\")\n",
        "  idade <- sample(18:65, 1)\n",
        "  cidade <- sample(c(\"São Paulo\", \"Rio de Janeiro\", \"Brasília\"), 1)\n",
        "  dicionario[[nome]] <- list(idade = idade, cidade = cidade)\n",
        "}\n",
        "dicionario\n"
      ],
      "metadata": {
        "colab": {
          "base_uri": "https://localhost:8080/",
          "height": 1000
        },
        "id": "WZRCIljmUGD3",
        "outputId": "3f6938ac-dd39-4caf-e3f3-8f00d2808841"
      },
      "execution_count": null,
      "outputs": [
        {
          "output_type": "display_data",
          "data": {
            "text/html": [
              "<dl>\n",
              "\t<dt>$Individuo1</dt>\n",
              "\t\t<dd><dl>\n",
              "\t<dt>$idade</dt>\n",
              "\t\t<dd>63</dd>\n",
              "\t<dt>$cidade</dt>\n",
              "\t\t<dd>'São Paulo'</dd>\n",
              "</dl>\n",
              "</dd>\n",
              "\t<dt>$Individuo2</dt>\n",
              "\t\t<dd><dl>\n",
              "\t<dt>$idade</dt>\n",
              "\t\t<dd>59</dd>\n",
              "\t<dt>$cidade</dt>\n",
              "\t\t<dd>'Rio de Janeiro'</dd>\n",
              "</dl>\n",
              "</dd>\n",
              "\t<dt>$Individuo3</dt>\n",
              "\t\t<dd><dl>\n",
              "\t<dt>$idade</dt>\n",
              "\t\t<dd>41</dd>\n",
              "\t<dt>$cidade</dt>\n",
              "\t\t<dd>'Rio de Janeiro'</dd>\n",
              "</dl>\n",
              "</dd>\n",
              "\t<dt>$Individuo4</dt>\n",
              "\t\t<dd><dl>\n",
              "\t<dt>$idade</dt>\n",
              "\t\t<dd>55</dd>\n",
              "\t<dt>$cidade</dt>\n",
              "\t\t<dd>'São Paulo'</dd>\n",
              "</dl>\n",
              "</dd>\n",
              "\t<dt>$Individuo5</dt>\n",
              "\t\t<dd><dl>\n",
              "\t<dt>$idade</dt>\n",
              "\t\t<dd>29</dd>\n",
              "\t<dt>$cidade</dt>\n",
              "\t\t<dd>'São Paulo'</dd>\n",
              "</dl>\n",
              "</dd>\n",
              "\t<dt>$Individuo6</dt>\n",
              "\t\t<dd><dl>\n",
              "\t<dt>$idade</dt>\n",
              "\t\t<dd>60</dd>\n",
              "\t<dt>$cidade</dt>\n",
              "\t\t<dd>'Rio de Janeiro'</dd>\n",
              "</dl>\n",
              "</dd>\n",
              "\t<dt>$Individuo7</dt>\n",
              "\t\t<dd><dl>\n",
              "\t<dt>$idade</dt>\n",
              "\t\t<dd>58</dd>\n",
              "\t<dt>$cidade</dt>\n",
              "\t\t<dd>'Rio de Janeiro'</dd>\n",
              "</dl>\n",
              "</dd>\n",
              "\t<dt>$Individuo8</dt>\n",
              "\t\t<dd><dl>\n",
              "\t<dt>$idade</dt>\n",
              "\t\t<dd>54</dd>\n",
              "\t<dt>$cidade</dt>\n",
              "\t\t<dd>'Rio de Janeiro'</dd>\n",
              "</dl>\n",
              "</dd>\n",
              "\t<dt>$Individuo9</dt>\n",
              "\t\t<dd><dl>\n",
              "\t<dt>$idade</dt>\n",
              "\t\t<dd>19</dd>\n",
              "\t<dt>$cidade</dt>\n",
              "\t\t<dd>'São Paulo'</dd>\n",
              "</dl>\n",
              "</dd>\n",
              "\t<dt>$Individuo10</dt>\n",
              "\t\t<dd><dl>\n",
              "\t<dt>$idade</dt>\n",
              "\t\t<dd>34</dd>\n",
              "\t<dt>$cidade</dt>\n",
              "\t\t<dd>'Brasília'</dd>\n",
              "</dl>\n",
              "</dd>\n",
              "</dl>\n"
            ],
            "text/markdown": "$Individuo1\n:   $idade\n:   63\n$cidade\n:   'São Paulo'\n\n\n\n$Individuo2\n:   $idade\n:   59\n$cidade\n:   'Rio de Janeiro'\n\n\n\n$Individuo3\n:   $idade\n:   41\n$cidade\n:   'Rio de Janeiro'\n\n\n\n$Individuo4\n:   $idade\n:   55\n$cidade\n:   'São Paulo'\n\n\n\n$Individuo5\n:   $idade\n:   29\n$cidade\n:   'São Paulo'\n\n\n\n$Individuo6\n:   $idade\n:   60\n$cidade\n:   'Rio de Janeiro'\n\n\n\n$Individuo7\n:   $idade\n:   58\n$cidade\n:   'Rio de Janeiro'\n\n\n\n$Individuo8\n:   $idade\n:   54\n$cidade\n:   'Rio de Janeiro'\n\n\n\n$Individuo9\n:   $idade\n:   19\n$cidade\n:   'São Paulo'\n\n\n\n$Individuo10\n:   $idade\n:   34\n$cidade\n:   'Brasília'\n\n\n\n\n\n",
            "text/latex": "\\begin{description}\n\\item[\\$Individuo1] \\begin{description}\n\\item[\\$idade] 63\n\\item[\\$cidade] 'São Paulo'\n\\end{description}\n\n\\item[\\$Individuo2] \\begin{description}\n\\item[\\$idade] 59\n\\item[\\$cidade] 'Rio de Janeiro'\n\\end{description}\n\n\\item[\\$Individuo3] \\begin{description}\n\\item[\\$idade] 41\n\\item[\\$cidade] 'Rio de Janeiro'\n\\end{description}\n\n\\item[\\$Individuo4] \\begin{description}\n\\item[\\$idade] 55\n\\item[\\$cidade] 'São Paulo'\n\\end{description}\n\n\\item[\\$Individuo5] \\begin{description}\n\\item[\\$idade] 29\n\\item[\\$cidade] 'São Paulo'\n\\end{description}\n\n\\item[\\$Individuo6] \\begin{description}\n\\item[\\$idade] 60\n\\item[\\$cidade] 'Rio de Janeiro'\n\\end{description}\n\n\\item[\\$Individuo7] \\begin{description}\n\\item[\\$idade] 58\n\\item[\\$cidade] 'Rio de Janeiro'\n\\end{description}\n\n\\item[\\$Individuo8] \\begin{description}\n\\item[\\$idade] 54\n\\item[\\$cidade] 'Rio de Janeiro'\n\\end{description}\n\n\\item[\\$Individuo9] \\begin{description}\n\\item[\\$idade] 19\n\\item[\\$cidade] 'São Paulo'\n\\end{description}\n\n\\item[\\$Individuo10] \\begin{description}\n\\item[\\$idade] 34\n\\item[\\$cidade] 'Brasília'\n\\end{description}\n\n\\end{description}\n",
            "text/plain": [
              "$Individuo1\n",
              "$Individuo1$idade\n",
              "[1] 63\n",
              "\n",
              "$Individuo1$cidade\n",
              "[1] \"São Paulo\"\n",
              "\n",
              "\n",
              "$Individuo2\n",
              "$Individuo2$idade\n",
              "[1] 59\n",
              "\n",
              "$Individuo2$cidade\n",
              "[1] \"Rio de Janeiro\"\n",
              "\n",
              "\n",
              "$Individuo3\n",
              "$Individuo3$idade\n",
              "[1] 41\n",
              "\n",
              "$Individuo3$cidade\n",
              "[1] \"Rio de Janeiro\"\n",
              "\n",
              "\n",
              "$Individuo4\n",
              "$Individuo4$idade\n",
              "[1] 55\n",
              "\n",
              "$Individuo4$cidade\n",
              "[1] \"São Paulo\"\n",
              "\n",
              "\n",
              "$Individuo5\n",
              "$Individuo5$idade\n",
              "[1] 29\n",
              "\n",
              "$Individuo5$cidade\n",
              "[1] \"São Paulo\"\n",
              "\n",
              "\n",
              "$Individuo6\n",
              "$Individuo6$idade\n",
              "[1] 60\n",
              "\n",
              "$Individuo6$cidade\n",
              "[1] \"Rio de Janeiro\"\n",
              "\n",
              "\n",
              "$Individuo7\n",
              "$Individuo7$idade\n",
              "[1] 58\n",
              "\n",
              "$Individuo7$cidade\n",
              "[1] \"Rio de Janeiro\"\n",
              "\n",
              "\n",
              "$Individuo8\n",
              "$Individuo8$idade\n",
              "[1] 54\n",
              "\n",
              "$Individuo8$cidade\n",
              "[1] \"Rio de Janeiro\"\n",
              "\n",
              "\n",
              "$Individuo9\n",
              "$Individuo9$idade\n",
              "[1] 19\n",
              "\n",
              "$Individuo9$cidade\n",
              "[1] \"São Paulo\"\n",
              "\n",
              "\n",
              "$Individuo10\n",
              "$Individuo10$idade\n",
              "[1] 34\n",
              "\n",
              "$Individuo10$cidade\n",
              "[1] \"Brasília\"\n",
              "\n"
            ]
          },
          "metadata": {}
        }
      ]
    },
    {
      "cell_type": "markdown",
      "source": [
        "# **Dataframe**"
      ],
      "metadata": {
        "id": "4UaqzeHz-zD4"
      }
    },
    {
      "cell_type": "code",
      "source": [
        "# Criando um dataframe\n",
        "df_pessoa <- data.frame(nome=c(\"João\", \"Maria\", \"Pedro\"),\n",
        "                        idade=c(30, 25, 35),\n",
        "                        cidade=c(\"São Paulo\", \"Rio de Janeiro\", \"Belo Horizonte\"))\n"
      ],
      "metadata": {
        "id": "So3IIyxa-Rph"
      },
      "execution_count": null,
      "outputs": []
    },
    {
      "cell_type": "code",
      "source": [
        "# Exibindo o dataframe\n",
        "print(df_pessoa)"
      ],
      "metadata": {
        "colab": {
          "base_uri": "https://localhost:8080/"
        },
        "id": "FwWVdJSpWhqA",
        "outputId": "0a1bf491-c75a-4f4d-f52b-549051f5e657"
      },
      "execution_count": null,
      "outputs": [
        {
          "output_type": "stream",
          "name": "stdout",
          "text": [
            "   nome idade         cidade\n",
            "1  João    30      São Paulo\n",
            "2 Maria    25 Rio de Janeiro\n",
            "3 Pedro    35 Belo Horizonte\n"
          ]
        }
      ]
    },
    {
      "cell_type": "code",
      "source": [
        "# Acessando colunas do dataframe\n",
        "print(df_pessoa$nome)"
      ],
      "metadata": {
        "colab": {
          "base_uri": "https://localhost:8080/"
        },
        "id": "4T2T-t96WjMI",
        "outputId": "cd2ad030-c017-44e8-87fc-703aa020b9c5"
      },
      "execution_count": null,
      "outputs": [
        {
          "output_type": "stream",
          "name": "stdout",
          "text": [
            "[1] \"João\"  \"Maria\" \"Pedro\"\n"
          ]
        }
      ]
    },
    {
      "cell_type": "code",
      "source": [
        "df_inviduos <- data.frame(dicionario)"
      ],
      "metadata": {
        "id": "xKm5ROssVkpO"
      },
      "execution_count": null,
      "outputs": []
    },
    {
      "cell_type": "code",
      "source": [
        "df_inviduos"
      ],
      "metadata": {
        "id": "ZpaxEs1LVtsu",
        "outputId": "46e6b2df-b06e-458c-91a4-3267f22d5700",
        "colab": {
          "base_uri": "https://localhost:8080/",
          "height": 149
        }
      },
      "execution_count": null,
      "outputs": [
        {
          "output_type": "display_data",
          "data": {
            "text/html": [
              "<table class=\"dataframe\">\n",
              "<caption>A data.frame: 1 × 20</caption>\n",
              "<thead>\n",
              "\t<tr><th scope=col>Individuo1.idade</th><th scope=col>Individuo1.cidade</th><th scope=col>Individuo2.idade</th><th scope=col>Individuo2.cidade</th><th scope=col>Individuo3.idade</th><th scope=col>Individuo3.cidade</th><th scope=col>Individuo4.idade</th><th scope=col>Individuo4.cidade</th><th scope=col>Individuo5.idade</th><th scope=col>Individuo5.cidade</th><th scope=col>Individuo6.idade</th><th scope=col>Individuo6.cidade</th><th scope=col>Individuo7.idade</th><th scope=col>Individuo7.cidade</th><th scope=col>Individuo8.idade</th><th scope=col>Individuo8.cidade</th><th scope=col>Individuo9.idade</th><th scope=col>Individuo9.cidade</th><th scope=col>Individuo10.idade</th><th scope=col>Individuo10.cidade</th></tr>\n",
              "\t<tr><th scope=col>&lt;int&gt;</th><th scope=col>&lt;chr&gt;</th><th scope=col>&lt;int&gt;</th><th scope=col>&lt;chr&gt;</th><th scope=col>&lt;int&gt;</th><th scope=col>&lt;chr&gt;</th><th scope=col>&lt;int&gt;</th><th scope=col>&lt;chr&gt;</th><th scope=col>&lt;int&gt;</th><th scope=col>&lt;chr&gt;</th><th scope=col>&lt;int&gt;</th><th scope=col>&lt;chr&gt;</th><th scope=col>&lt;int&gt;</th><th scope=col>&lt;chr&gt;</th><th scope=col>&lt;int&gt;</th><th scope=col>&lt;chr&gt;</th><th scope=col>&lt;int&gt;</th><th scope=col>&lt;chr&gt;</th><th scope=col>&lt;int&gt;</th><th scope=col>&lt;chr&gt;</th></tr>\n",
              "</thead>\n",
              "<tbody>\n",
              "\t<tr><td>63</td><td>São Paulo</td><td>59</td><td>Rio de Janeiro</td><td>41</td><td>Rio de Janeiro</td><td>55</td><td>São Paulo</td><td>29</td><td>São Paulo</td><td>60</td><td>Rio de Janeiro</td><td>58</td><td>Rio de Janeiro</td><td>54</td><td>Rio de Janeiro</td><td>19</td><td>São Paulo</td><td>34</td><td>Brasília</td></tr>\n",
              "</tbody>\n",
              "</table>\n"
            ],
            "text/markdown": "\nA data.frame: 1 × 20\n\n| Individuo1.idade &lt;int&gt; | Individuo1.cidade &lt;chr&gt; | Individuo2.idade &lt;int&gt; | Individuo2.cidade &lt;chr&gt; | Individuo3.idade &lt;int&gt; | Individuo3.cidade &lt;chr&gt; | Individuo4.idade &lt;int&gt; | Individuo4.cidade &lt;chr&gt; | Individuo5.idade &lt;int&gt; | Individuo5.cidade &lt;chr&gt; | Individuo6.idade &lt;int&gt; | Individuo6.cidade &lt;chr&gt; | Individuo7.idade &lt;int&gt; | Individuo7.cidade &lt;chr&gt; | Individuo8.idade &lt;int&gt; | Individuo8.cidade &lt;chr&gt; | Individuo9.idade &lt;int&gt; | Individuo9.cidade &lt;chr&gt; | Individuo10.idade &lt;int&gt; | Individuo10.cidade &lt;chr&gt; |\n|---|---|---|---|---|---|---|---|---|---|---|---|---|---|---|---|---|---|---|---|\n| 63 | São Paulo | 59 | Rio de Janeiro | 41 | Rio de Janeiro | 55 | São Paulo | 29 | São Paulo | 60 | Rio de Janeiro | 58 | Rio de Janeiro | 54 | Rio de Janeiro | 19 | São Paulo | 34 | Brasília |\n\n",
            "text/latex": "A data.frame: 1 × 20\n\\begin{tabular}{llllllllllllllllllll}\n Individuo1.idade & Individuo1.cidade & Individuo2.idade & Individuo2.cidade & Individuo3.idade & Individuo3.cidade & Individuo4.idade & Individuo4.cidade & Individuo5.idade & Individuo5.cidade & Individuo6.idade & Individuo6.cidade & Individuo7.idade & Individuo7.cidade & Individuo8.idade & Individuo8.cidade & Individuo9.idade & Individuo9.cidade & Individuo10.idade & Individuo10.cidade\\\\\n <int> & <chr> & <int> & <chr> & <int> & <chr> & <int> & <chr> & <int> & <chr> & <int> & <chr> & <int> & <chr> & <int> & <chr> & <int> & <chr> & <int> & <chr>\\\\\n\\hline\n\t 63 & São Paulo & 59 & Rio de Janeiro & 41 & Rio de Janeiro & 55 & São Paulo & 29 & São Paulo & 60 & Rio de Janeiro & 58 & Rio de Janeiro & 54 & Rio de Janeiro & 19 & São Paulo & 34 & Brasília\\\\\n\\end{tabular}\n",
            "text/plain": [
              "  Individuo1.idade Individuo1.cidade Individuo2.idade Individuo2.cidade\n",
              "1 63               São Paulo         59               Rio de Janeiro   \n",
              "  Individuo3.idade Individuo3.cidade Individuo4.idade Individuo4.cidade\n",
              "1 41               Rio de Janeiro    55               São Paulo        \n",
              "  Individuo5.idade Individuo5.cidade Individuo6.idade Individuo6.cidade\n",
              "1 29               São Paulo         60               Rio de Janeiro   \n",
              "  Individuo7.idade Individuo7.cidade Individuo8.idade Individuo8.cidade\n",
              "1 58               Rio de Janeiro    54               Rio de Janeiro   \n",
              "  Individuo9.idade Individuo9.cidade Individuo10.idade Individuo10.cidade\n",
              "1 19               São Paulo         34                Brasília          "
            ]
          },
          "metadata": {}
        }
      ]
    }
  ]
}